{
 "cells": [
  {
   "cell_type": "markdown",
   "id": "c1ea8264-ad1d-4dc9-bfb7-25170192b767",
   "metadata": {},
   "source": [
    "## ASSIGNMENT-1\n",
    "\n",
    "Student IDs: \n",
    "\n",
    "2023900021\n",
    "\n",
    "2022201039\n",
    "\n",
    "Names: \n",
    "\n",
    "Hrithik Sagar\n",
    "\n",
    "Subhadeep \n"
   ]
  },
  {
   "cell_type": "markdown",
   "id": "133d8fd9-f9d0-4cfc-a7dc-7dd295ff4830",
   "metadata": {},
   "source": [
    "### Instructions\n",
    " * Fill in the student ID and name of the team members in the cell above.\n",
    " * Code must be written in Python in Jupyter Notebooks. We highly recommend using anaconda distribution or at the minimum, virtual environments for this assignment.\n",
    " * You can use the in-built methods and **unless explicitly mentioned**, don't need to code from scratch for this assignment. Make sure your code is modular.\n",
    " * All the visualization should be done inside the notebook unless specified otherwise.\n",
    " * Plagiarism will lead to a straight zero.\n",
    " * Write a report that briefly describes your approach/algorithm used, your final results and any other findings.\n",
    " * Add any report, graphs, plots and other results files under the results folder.\n",
    " * Submit a zip containing this notebook and results folder on Moodle as <team_name\\>.zip. \n",
    " * The deadline is **Feb 7th, 23:55**. This is a hard deadline, and no submissions will be accepted after this."
   ]
  },
  {
   "cell_type": "markdown",
   "id": "499bf9a5-73e4-4d98-904a-11c0a4c0f335",
   "metadata": {},
   "source": [
    "### SECTION 1: Rapidly-exploring Random Tree (RRT)\n",
    "\n",
    "Welcome to the first assignment of the course! You are living on the desert planet of Tatooine, and you\n",
    "have been tasked with building a robot for the Resistance. You have already put together all the circuits,\n",
    "but you still have to solve the robotic path planning problem. You need to help the robot navigate from\n",
    "its initial location to its destination, whilst efficiently avoiding stormtrooper obstacles on the way."
   ]
  },
  {
   "cell_type": "markdown",
   "id": "654819b5-2746-4d2f-ab20-1d5fdef2d71d",
   "metadata": {},
   "source": [
    "The goal of this assignment is to implement the RRT path planning algorithm for a robot. Do not use inbuilt function for RRT. \n",
    "\n",
    "The robot is to navigate a two-dimensional space, avoiding known locations with obstacles and travelling from its initial location to a goal location. Given localization information (robot’s initial position, obstacle location, goal location), your task is to implement a path-planning decision-maker to drive the robot from its initial position to the desired location.\n",
    "\n",
    "Specifically, the problem can be formed as follows: Consider a 2D grid instantiated with different kinds of obstacles (for instance, geometrical shapes like Rectangles, Circles, Triangles or a combination of any of the above 2/3). You are given a start and end point on this grid. You must implement the RRT algorithm for two cases: \n",
    "1. Holonomic Robot      - moves in any direction\n",
    "2. Non-Holonomic Robot. - moves forward, backward, sides\n",
    "\n",
    "You must submit two videos for each of the above cases, showing the evolution of your graphs. The first one should showcase only the platform centre velocity, that is the trajectory of the center of the robot. Something like this:\n",
    "\n",
    "<img src=\"misc/1.png\" alt=\"image 1\" width=\"300\"/>\n",
    "\n",
    "Your second video should show the individual wheel trajectories (evolution of all the wheels in all the possible paths). Ensure that no collisions happen near the boundaries and use methods explained in the class for this. Also, the trajectories for each individual wheel must appear consistent. The left wheel should not go haywire while the right wheel’s trajectory is smooth - they must be in sync with one another. If you code the algorithm right, the kinematics will guarantee this! :)\n",
    "\n",
    "You can refer to this [video](https://robotics.iiit.ac.in/videos/Quasistatic/eathakota_etal_iros11.mp4), which shows the trajectories plotted for all three wheels of the robot. Although this is done in 3D, and you need to implement this for only two dimensions. Your plot should look like below.\n",
    "\n",
    "<img src=\"misc/2.png\" alt=\"image 1\" width=\"300\"/>\n",
    "\n",
    "Hence, there will be 4 videos in total: 2 for holonomic and 2 more for non-holonomic. For each case, one video will show the platform centre velocity and the other, the individual wheel trajectories. You should save all the graphs, combine them into a video, save them in the results folder, and include them in your report if necessary. You should also include a few pictures of the plots in your report, along with the video links. Use the given helper function to generate video from individual frames.\n",
    "\n",
    "Deliverables:\n",
    "* Code for both cases. Please ensure the code is well written, and we can ask you to explain certain snippets of it during evaluations.\n",
    "* Two graphs, as explained above, for each case.\n",
    "* A report summarizing your understanding of the algorithm and an explanation of the results.\n",
    "\n",
    "You have been a helper function to generate the video from frames (make_video.py). Also the environment has been created for you. \n",
    "\n",
    "Feel free to reach out to TAs for any queries. All the best!"
   ]
  },
  {
   "cell_type": "code",
   "execution_count": 1,
   "id": "eb7f4e02-1b20-4b3d-90a8-856c7f759222",
   "metadata": {},
   "outputs": [
    {
     "ename": "ModuleNotFoundError",
     "evalue": "No module named 'matplotlib'",
     "output_type": "error",
     "traceback": [
      "\u001b[0;31m---------------------------------------------------------------------------\u001b[0m",
      "\u001b[0;31mModuleNotFoundError\u001b[0m                       Traceback (most recent call last)",
      "\u001b[1;32m/Users/hrithik/Library/Mobile Documents/com~apple~CloudDocs/iCloud Downloads/IIITH PGSSP/#S24/Robotics P&N/Robotics_Assign1/Assign1.ipynb Cell 5\u001b[0m line \u001b[0;36m2\n\u001b[1;32m      <a href='vscode-notebook-cell:/Users/hrithik/Library/Mobile%20Documents/com~apple~CloudDocs/iCloud%20Downloads/IIITH%20PGSSP/%23S24/Robotics%20P%26N/Robotics_Assign1/Assign1.ipynb#W4sZmlsZQ%3D%3D?line=0'>1</a>\u001b[0m \u001b[39m# List the imports here\u001b[39;00m\n\u001b[0;32m----> <a href='vscode-notebook-cell:/Users/hrithik/Library/Mobile%20Documents/com~apple~CloudDocs/iCloud%20Downloads/IIITH%20PGSSP/%23S24/Robotics%20P%26N/Robotics_Assign1/Assign1.ipynb#W4sZmlsZQ%3D%3D?line=1'>2</a>\u001b[0m \u001b[39mimport\u001b[39;00m \u001b[39mmatplotlib\u001b[39;00m\u001b[39m.\u001b[39;00m\u001b[39mpyplot\u001b[39;00m \u001b[39mas\u001b[39;00m \u001b[39mplt\u001b[39;00m\n\u001b[1;32m      <a href='vscode-notebook-cell:/Users/hrithik/Library/Mobile%20Documents/com~apple~CloudDocs/iCloud%20Downloads/IIITH%20PGSSP/%23S24/Robotics%20P%26N/Robotics_Assign1/Assign1.ipynb#W4sZmlsZQ%3D%3D?line=2'>3</a>\u001b[0m \u001b[39mimport\u001b[39;00m \u001b[39mmath\u001b[39;00m\n\u001b[1;32m      <a href='vscode-notebook-cell:/Users/hrithik/Library/Mobile%20Documents/com~apple~CloudDocs/iCloud%20Downloads/IIITH%20PGSSP/%23S24/Robotics%20P%26N/Robotics_Assign1/Assign1.ipynb#W4sZmlsZQ%3D%3D?line=3'>4</a>\u001b[0m \u001b[39mimport\u001b[39;00m \u001b[39mrandom\u001b[39;00m\n",
      "\u001b[0;31mModuleNotFoundError\u001b[0m: No module named 'matplotlib'"
     ]
    }
   ],
   "source": [
    "# List the imports here\n",
    "import matplotlib.pyplot as plt\n",
    "import math\n",
    "import random\n",
    "import numpy as np\n",
    "from matplotlib.lines import Line2D\n",
    "import itertools"
   ]
  },
  {
   "cell_type": "code",
   "execution_count": 2,
   "id": "616b9138-737a-4507-b156-120c8889b044",
   "metadata": {},
   "outputs": [],
   "source": [
    "class env:\n",
    "    def __init__(self, x_start, y_start, x_goal, y_goal, rbot, xmin=0, xmax=100, ymin=0, ymax=100):\n",
    "        self.x_start, self.y_start, self.x_goal, self.y_goal = x_start, y_start, x_goal, y_goal\n",
    "        self.xlim = (xmin, xmax)\n",
    "        self.ylim = (ymin, ymax)\n",
    "        self.rbot = rbot\n",
    "        self.obstacles()\n",
    "        \n",
    "    def obstacles(self):\n",
    "        # Specify vertices for rectangular obstacles (each object has four vertices).\n",
    "        v_origx= [40,40,60,60,70,70,80,80,40,40,60,60]\n",
    "        v_origy= [62,100,100,62,40,60,60,40,0,38,38,0]\n",
    "        vx = [i for i in v_origx]\n",
    "        vy = [i for i in v_origy]\n",
    "        # Centers and radii of the circular obstacles.\n",
    "        radii = [7, 2, 3]\n",
    "        circle_x = [20,90,77]\n",
    "        circle_y = [20,70,82]\n",
    "        num_circles = len(circle_x)\n",
    "\n",
    "        self.num_rectangles = 3\n",
    "        self.obst_x = vx\n",
    "        self.obst_y = vy\n",
    "        self.radii = radii\n",
    "        self.circle_x = circle_x\n",
    "        self.circle_y = circle_y\n",
    "        self.num_circles = num_circles\n",
    "        \n",
    "    def draw(self):\n",
    "        #draw boundary\n",
    "        rbot = self.rbot\n",
    "        plt.plot([0-2*rbot, 0-2*rbot, 100+2*rbot, 100+2*rbot, 0-2*rbot],\n",
    "                 [0-2*rbot, 100+2*rbot, 100+2*rbot, 0-2*rbot, 0-2*rbot],'k', lw=0.5)\n",
    "    \n",
    "        plt.plot(self.x_goal, self.y_goal , 'g*', markersize = 20)\n",
    "        plt.plot(self.x_start, self.y_start, 'b*', markersize = 20)\n",
    "    \n",
    "        num = len(self.obst_x)/4\n",
    "        for i in range(1,int(num)+1): # Plotting rectangles\n",
    "            x = self.obst_x[4*(i-1)]\n",
    "            y = self.obst_y[4*(i-1)]\n",
    "            width = self.obst_x[4*(i-1)+2] - self.obst_x[4*(i-1)]\n",
    "            height = self.obst_y[4*(i-1)+2] - self.obst_y[4*(i-1)]\n",
    "            rect = plt.Rectangle((x,y), width, height, linewidth=1, color='r')\n",
    "            plt.gca().add_patch(rect)\n",
    "    \n",
    "        for i in range(self.num_circles): #plotting  circles\n",
    "            circle = plt.Circle((self.circle_x[i], self.circle_y[i]), self.radii[i], color='r')\n",
    "            plt.gca().add_patch(circle)\n",
    "    \n",
    "        plt.gca().set_aspect('equal', adjustable='box')\n",
    "        plt.show()"
   ]
  },
  {
   "cell_type": "code",
   "execution_count": 3,
   "id": "df310f66-698a-4792-8050-92325345c682",
   "metadata": {},
   "outputs": [
    {
     "data": {
      "image/png": "[encoded data removed]",
      "text/plain": [
       "<Figure size 640x480 with 1 Axes>"
      ]
     },
     "metadata": {},
     "output_type": "display_data"
    }
   ],
   "source": [
    "# Goal and start location region\n",
    "x_sart, y_start, x_goal, y_goal = 0, 2, 100, 100 \n",
    "# Radius of the robot\n",
    "r_bot = 2\n",
    "# Environment instance\n",
    "E = env(x_sart, y_start, x_goal, y_goal, r_bot, 0, 100, 0, 100) \n",
    "E.draw()"
   ]
  },
  {
   "cell_type": "code",
   "execution_count": null,
   "id": "52fb5a09-2cc0-4491-a60a-10c90735c1f5",
   "metadata": {},
   "outputs": [],
   "source": []
  }
 ],
 "metadata": {
  "kernelspec": {
   "display_name": "Python 3 (ipykernel)",
   "language": "python",
   "name": "python3"
  },
  "language_info": {
   "codemirror_mode": {
    "name": "ipython",
    "version": 3
   },
   "file_extension": ".py",
   "mimetype": "text/x-python",
   "name": "python",
   "nbconvert_exporter": "python",
   "pygments_lexer": "ipython3",
   "version": "3.11.6"
  }
 },
 "nbformat": 4,
 "nbformat_minor": 5
}
